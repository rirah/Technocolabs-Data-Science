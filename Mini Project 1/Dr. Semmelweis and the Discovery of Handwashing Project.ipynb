{
 "cells": [
  {
   "cell_type": "markdown",
   "metadata": {},
   "source": [
    "# Task 1: Instructions\n"
   ]
  },
  {
   "cell_type": "raw",
   "metadata": {},
   "source": [
    "1.Load in the dataset with the yearly number of deaths.\n",
    "2.Import the pandas module.\n",
    "3.Read in datasets/yearly_deaths_by_clinic.csv and assign it to the variable yearly.\n",
    "4.Print out yearly."
   ]
  },
  {
   "cell_type": "code",
   "execution_count": 2,
   "metadata": {},
   "outputs": [],
   "source": [
    "import pandas as pd\n",
    "import numpy as np"
   ]
  },
  {
   "cell_type": "code",
   "execution_count": 5,
   "metadata": {},
   "outputs": [
    {
     "data": {
      "text/html": [
       "<div>\n",
       "<style scoped>\n",
       "    .dataframe tbody tr th:only-of-type {\n",
       "        vertical-align: middle;\n",
       "    }\n",
       "\n",
       "    .dataframe tbody tr th {\n",
       "        vertical-align: top;\n",
       "    }\n",
       "\n",
       "    .dataframe thead th {\n",
       "        text-align: right;\n",
       "    }\n",
       "</style>\n",
       "<table border=\"1\" class=\"dataframe\">\n",
       "  <thead>\n",
       "    <tr style=\"text-align: right;\">\n",
       "      <th></th>\n",
       "      <th>year</th>\n",
       "      <th>births</th>\n",
       "      <th>deaths</th>\n",
       "      <th>clinic</th>\n",
       "    </tr>\n",
       "  </thead>\n",
       "  <tbody>\n",
       "    <tr>\n",
       "      <th>0</th>\n",
       "      <td>1841</td>\n",
       "      <td>3036</td>\n",
       "      <td>237</td>\n",
       "      <td>clinic 1</td>\n",
       "    </tr>\n",
       "    <tr>\n",
       "      <th>1</th>\n",
       "      <td>1842</td>\n",
       "      <td>3287</td>\n",
       "      <td>518</td>\n",
       "      <td>clinic 1</td>\n",
       "    </tr>\n",
       "    <tr>\n",
       "      <th>2</th>\n",
       "      <td>1843</td>\n",
       "      <td>3060</td>\n",
       "      <td>274</td>\n",
       "      <td>clinic 1</td>\n",
       "    </tr>\n",
       "    <tr>\n",
       "      <th>3</th>\n",
       "      <td>1844</td>\n",
       "      <td>3157</td>\n",
       "      <td>260</td>\n",
       "      <td>clinic 1</td>\n",
       "    </tr>\n",
       "    <tr>\n",
       "      <th>4</th>\n",
       "      <td>1845</td>\n",
       "      <td>3492</td>\n",
       "      <td>241</td>\n",
       "      <td>clinic 1</td>\n",
       "    </tr>\n",
       "    <tr>\n",
       "      <th>5</th>\n",
       "      <td>1846</td>\n",
       "      <td>4010</td>\n",
       "      <td>459</td>\n",
       "      <td>clinic 1</td>\n",
       "    </tr>\n",
       "    <tr>\n",
       "      <th>6</th>\n",
       "      <td>1841</td>\n",
       "      <td>2442</td>\n",
       "      <td>86</td>\n",
       "      <td>clinic 2</td>\n",
       "    </tr>\n",
       "    <tr>\n",
       "      <th>7</th>\n",
       "      <td>1842</td>\n",
       "      <td>2659</td>\n",
       "      <td>202</td>\n",
       "      <td>clinic 2</td>\n",
       "    </tr>\n",
       "    <tr>\n",
       "      <th>8</th>\n",
       "      <td>1843</td>\n",
       "      <td>2739</td>\n",
       "      <td>164</td>\n",
       "      <td>clinic 2</td>\n",
       "    </tr>\n",
       "    <tr>\n",
       "      <th>9</th>\n",
       "      <td>1844</td>\n",
       "      <td>2956</td>\n",
       "      <td>68</td>\n",
       "      <td>clinic 2</td>\n",
       "    </tr>\n",
       "    <tr>\n",
       "      <th>10</th>\n",
       "      <td>1845</td>\n",
       "      <td>3241</td>\n",
       "      <td>66</td>\n",
       "      <td>clinic 2</td>\n",
       "    </tr>\n",
       "    <tr>\n",
       "      <th>11</th>\n",
       "      <td>1846</td>\n",
       "      <td>3754</td>\n",
       "      <td>105</td>\n",
       "      <td>clinic 2</td>\n",
       "    </tr>\n",
       "  </tbody>\n",
       "</table>\n",
       "</div>"
      ],
      "text/plain": [
       "    year  births  deaths    clinic\n",
       "0   1841    3036     237  clinic 1\n",
       "1   1842    3287     518  clinic 1\n",
       "2   1843    3060     274  clinic 1\n",
       "3   1844    3157     260  clinic 1\n",
       "4   1845    3492     241  clinic 1\n",
       "5   1846    4010     459  clinic 1\n",
       "6   1841    2442      86  clinic 2\n",
       "7   1842    2659     202  clinic 2\n",
       "8   1843    2739     164  clinic 2\n",
       "9   1844    2956      68  clinic 2\n",
       "10  1845    3241      66  clinic 2\n",
       "11  1846    3754     105  clinic 2"
      ]
     },
     "execution_count": 5,
     "metadata": {},
     "output_type": "execute_result"
    }
   ],
   "source": [
    "yearly= pd.read_csv(r'C:\\Users\\rahul\\Downloads\\datasets\\datasets\\yearly_deaths_by_clinic.csv')\n",
    "yearly"
   ]
  },
  {
   "cell_type": "markdown",
   "metadata": {},
   "source": [
    "# Task 2: Instructions"
   ]
  },
  {
   "cell_type": "raw",
   "metadata": {},
   "source": [
    "1.Calculate the yearly proportion of deaths.\n",
    "2.Calculate the proportion of deaths per number of births and store the result in the new column yearly[\"proportion_deaths\"].\n",
    "3.Extract the rows from clinic 1 into yearly1 and the rows from clinic 2 into yearly2.\n",
    "4.Print out yearly1."
   ]
  },
  {
   "cell_type": "code",
   "execution_count": 9,
   "metadata": {},
   "outputs": [
    {
     "data": {
      "text/html": [
       "<div>\n",
       "<style scoped>\n",
       "    .dataframe tbody tr th:only-of-type {\n",
       "        vertical-align: middle;\n",
       "    }\n",
       "\n",
       "    .dataframe tbody tr th {\n",
       "        vertical-align: top;\n",
       "    }\n",
       "\n",
       "    .dataframe thead th {\n",
       "        text-align: right;\n",
       "    }\n",
       "</style>\n",
       "<table border=\"1\" class=\"dataframe\">\n",
       "  <thead>\n",
       "    <tr style=\"text-align: right;\">\n",
       "      <th></th>\n",
       "      <th>proportion_deaths</th>\n",
       "    </tr>\n",
       "  </thead>\n",
       "  <tbody>\n",
       "    <tr>\n",
       "      <th>0</th>\n",
       "      <td>0.078063</td>\n",
       "    </tr>\n",
       "    <tr>\n",
       "      <th>1</th>\n",
       "      <td>0.157591</td>\n",
       "    </tr>\n",
       "    <tr>\n",
       "      <th>2</th>\n",
       "      <td>0.089542</td>\n",
       "    </tr>\n",
       "    <tr>\n",
       "      <th>3</th>\n",
       "      <td>0.082357</td>\n",
       "    </tr>\n",
       "    <tr>\n",
       "      <th>4</th>\n",
       "      <td>0.069015</td>\n",
       "    </tr>\n",
       "    <tr>\n",
       "      <th>5</th>\n",
       "      <td>0.114464</td>\n",
       "    </tr>\n",
       "    <tr>\n",
       "      <th>6</th>\n",
       "      <td>0.035217</td>\n",
       "    </tr>\n",
       "    <tr>\n",
       "      <th>7</th>\n",
       "      <td>0.075968</td>\n",
       "    </tr>\n",
       "    <tr>\n",
       "      <th>8</th>\n",
       "      <td>0.059876</td>\n",
       "    </tr>\n",
       "    <tr>\n",
       "      <th>9</th>\n",
       "      <td>0.023004</td>\n",
       "    </tr>\n",
       "    <tr>\n",
       "      <th>10</th>\n",
       "      <td>0.020364</td>\n",
       "    </tr>\n",
       "    <tr>\n",
       "      <th>11</th>\n",
       "      <td>0.027970</td>\n",
       "    </tr>\n",
       "  </tbody>\n",
       "</table>\n",
       "</div>"
      ],
      "text/plain": [
       "    proportion_deaths\n",
       "0            0.078063\n",
       "1            0.157591\n",
       "2            0.089542\n",
       "3            0.082357\n",
       "4            0.069015\n",
       "5            0.114464\n",
       "6            0.035217\n",
       "7            0.075968\n",
       "8            0.059876\n",
       "9            0.023004\n",
       "10           0.020364\n",
       "11           0.027970"
      ]
     },
     "execution_count": 9,
     "metadata": {},
     "output_type": "execute_result"
    }
   ],
   "source": [
    "yearly[\"proportion_deaths\"]= yearly['deaths']/ yearly['births']\n",
    "yearly[[\"proportion_deaths\"]]"
   ]
  },
  {
   "cell_type": "code",
   "execution_count": 19,
   "metadata": {},
   "outputs": [
    {
     "data": {
      "text/html": [
       "<div>\n",
       "<style scoped>\n",
       "    .dataframe tbody tr th:only-of-type {\n",
       "        vertical-align: middle;\n",
       "    }\n",
       "\n",
       "    .dataframe tbody tr th {\n",
       "        vertical-align: top;\n",
       "    }\n",
       "\n",
       "    .dataframe thead th {\n",
       "        text-align: right;\n",
       "    }\n",
       "</style>\n",
       "<table border=\"1\" class=\"dataframe\">\n",
       "  <thead>\n",
       "    <tr style=\"text-align: right;\">\n",
       "      <th></th>\n",
       "      <th>year</th>\n",
       "      <th>births</th>\n",
       "      <th>deaths</th>\n",
       "      <th>clinic</th>\n",
       "      <th>proportion_deaths</th>\n",
       "    </tr>\n",
       "  </thead>\n",
       "  <tbody>\n",
       "    <tr>\n",
       "      <th>0</th>\n",
       "      <td>1841</td>\n",
       "      <td>3036</td>\n",
       "      <td>237</td>\n",
       "      <td>clinic 1</td>\n",
       "      <td>0.078063</td>\n",
       "    </tr>\n",
       "    <tr>\n",
       "      <th>1</th>\n",
       "      <td>1842</td>\n",
       "      <td>3287</td>\n",
       "      <td>518</td>\n",
       "      <td>clinic 1</td>\n",
       "      <td>0.157591</td>\n",
       "    </tr>\n",
       "    <tr>\n",
       "      <th>2</th>\n",
       "      <td>1843</td>\n",
       "      <td>3060</td>\n",
       "      <td>274</td>\n",
       "      <td>clinic 1</td>\n",
       "      <td>0.089542</td>\n",
       "    </tr>\n",
       "    <tr>\n",
       "      <th>3</th>\n",
       "      <td>1844</td>\n",
       "      <td>3157</td>\n",
       "      <td>260</td>\n",
       "      <td>clinic 1</td>\n",
       "      <td>0.082357</td>\n",
       "    </tr>\n",
       "    <tr>\n",
       "      <th>4</th>\n",
       "      <td>1845</td>\n",
       "      <td>3492</td>\n",
       "      <td>241</td>\n",
       "      <td>clinic 1</td>\n",
       "      <td>0.069015</td>\n",
       "    </tr>\n",
       "    <tr>\n",
       "      <th>5</th>\n",
       "      <td>1846</td>\n",
       "      <td>4010</td>\n",
       "      <td>459</td>\n",
       "      <td>clinic 1</td>\n",
       "      <td>0.114464</td>\n",
       "    </tr>\n",
       "    <tr>\n",
       "      <th>6</th>\n",
       "      <td>1841</td>\n",
       "      <td>2442</td>\n",
       "      <td>86</td>\n",
       "      <td>clinic 2</td>\n",
       "      <td>0.035217</td>\n",
       "    </tr>\n",
       "    <tr>\n",
       "      <th>7</th>\n",
       "      <td>1842</td>\n",
       "      <td>2659</td>\n",
       "      <td>202</td>\n",
       "      <td>clinic 2</td>\n",
       "      <td>0.075968</td>\n",
       "    </tr>\n",
       "    <tr>\n",
       "      <th>8</th>\n",
       "      <td>1843</td>\n",
       "      <td>2739</td>\n",
       "      <td>164</td>\n",
       "      <td>clinic 2</td>\n",
       "      <td>0.059876</td>\n",
       "    </tr>\n",
       "    <tr>\n",
       "      <th>9</th>\n",
       "      <td>1844</td>\n",
       "      <td>2956</td>\n",
       "      <td>68</td>\n",
       "      <td>clinic 2</td>\n",
       "      <td>0.023004</td>\n",
       "    </tr>\n",
       "    <tr>\n",
       "      <th>10</th>\n",
       "      <td>1845</td>\n",
       "      <td>3241</td>\n",
       "      <td>66</td>\n",
       "      <td>clinic 2</td>\n",
       "      <td>0.020364</td>\n",
       "    </tr>\n",
       "    <tr>\n",
       "      <th>11</th>\n",
       "      <td>1846</td>\n",
       "      <td>3754</td>\n",
       "      <td>105</td>\n",
       "      <td>clinic 2</td>\n",
       "      <td>0.027970</td>\n",
       "    </tr>\n",
       "  </tbody>\n",
       "</table>\n",
       "</div>"
      ],
      "text/plain": [
       "    year  births  deaths    clinic  proportion_deaths\n",
       "0   1841    3036     237  clinic 1           0.078063\n",
       "1   1842    3287     518  clinic 1           0.157591\n",
       "2   1843    3060     274  clinic 1           0.089542\n",
       "3   1844    3157     260  clinic 1           0.082357\n",
       "4   1845    3492     241  clinic 1           0.069015\n",
       "5   1846    4010     459  clinic 1           0.114464\n",
       "6   1841    2442      86  clinic 2           0.035217\n",
       "7   1842    2659     202  clinic 2           0.075968\n",
       "8   1843    2739     164  clinic 2           0.059876\n",
       "9   1844    2956      68  clinic 2           0.023004\n",
       "10  1845    3241      66  clinic 2           0.020364\n",
       "11  1846    3754     105  clinic 2           0.027970"
      ]
     },
     "execution_count": 19,
     "metadata": {},
     "output_type": "execute_result"
    }
   ],
   "source": [
    "yearly"
   ]
  },
  {
   "cell_type": "code",
   "execution_count": 42,
   "metadata": {},
   "outputs": [
    {
     "data": {
      "text/html": [
       "<div>\n",
       "<style scoped>\n",
       "    .dataframe tbody tr th:only-of-type {\n",
       "        vertical-align: middle;\n",
       "    }\n",
       "\n",
       "    .dataframe tbody tr th {\n",
       "        vertical-align: top;\n",
       "    }\n",
       "\n",
       "    .dataframe thead th {\n",
       "        text-align: right;\n",
       "    }\n",
       "</style>\n",
       "<table border=\"1\" class=\"dataframe\">\n",
       "  <thead>\n",
       "    <tr style=\"text-align: right;\">\n",
       "      <th></th>\n",
       "      <th>year</th>\n",
       "      <th>births</th>\n",
       "      <th>deaths</th>\n",
       "      <th>clinic</th>\n",
       "      <th>proportion_deaths</th>\n",
       "    </tr>\n",
       "  </thead>\n",
       "  <tbody>\n",
       "    <tr>\n",
       "      <th>0</th>\n",
       "      <td>1841</td>\n",
       "      <td>3036</td>\n",
       "      <td>237</td>\n",
       "      <td>clinic 1</td>\n",
       "      <td>0.078063</td>\n",
       "    </tr>\n",
       "    <tr>\n",
       "      <th>1</th>\n",
       "      <td>1842</td>\n",
       "      <td>3287</td>\n",
       "      <td>518</td>\n",
       "      <td>clinic 1</td>\n",
       "      <td>0.157591</td>\n",
       "    </tr>\n",
       "    <tr>\n",
       "      <th>2</th>\n",
       "      <td>1843</td>\n",
       "      <td>3060</td>\n",
       "      <td>274</td>\n",
       "      <td>clinic 1</td>\n",
       "      <td>0.089542</td>\n",
       "    </tr>\n",
       "    <tr>\n",
       "      <th>3</th>\n",
       "      <td>1844</td>\n",
       "      <td>3157</td>\n",
       "      <td>260</td>\n",
       "      <td>clinic 1</td>\n",
       "      <td>0.082357</td>\n",
       "    </tr>\n",
       "    <tr>\n",
       "      <th>4</th>\n",
       "      <td>1845</td>\n",
       "      <td>3492</td>\n",
       "      <td>241</td>\n",
       "      <td>clinic 1</td>\n",
       "      <td>0.069015</td>\n",
       "    </tr>\n",
       "    <tr>\n",
       "      <th>5</th>\n",
       "      <td>1846</td>\n",
       "      <td>4010</td>\n",
       "      <td>459</td>\n",
       "      <td>clinic 1</td>\n",
       "      <td>0.114464</td>\n",
       "    </tr>\n",
       "  </tbody>\n",
       "</table>\n",
       "</div>"
      ],
      "text/plain": [
       "   year  births  deaths    clinic  proportion_deaths\n",
       "0  1841    3036     237  clinic 1           0.078063\n",
       "1  1842    3287     518  clinic 1           0.157591\n",
       "2  1843    3060     274  clinic 1           0.089542\n",
       "3  1844    3157     260  clinic 1           0.082357\n",
       "4  1845    3492     241  clinic 1           0.069015\n",
       "5  1846    4010     459  clinic 1           0.114464"
      ]
     },
     "execution_count": 42,
     "metadata": {},
     "output_type": "execute_result"
    }
   ],
   "source": [
    "yearly1= yearly[yearly.clinic == 'clinic 1']\n",
    "yearly2= yearly[yearly.clinic == 'clinic 2']\n",
    "yearly1"
   ]
  },
  {
   "cell_type": "markdown",
   "metadata": {},
   "source": [
    "# Task 3: Instructions"
   ]
  },
  {
   "cell_type": "raw",
   "metadata": {},
   "source": [
    "1.Plot the yearly proportion of deaths for both clinics.\n",
    "2.Plot proportion_deaths by year for the two clinics in a single plot. Use the DataFrame plot method.\n",
    "3.Label the plotted lines using the label argument to plot.\n",
    "4.Save the Axes object returned by the plot method into the variable ax.\n",
    "5.Change the y-axis label to \"Proportion deaths\""
   ]
  },
  {
   "cell_type": "code",
   "execution_count": 43,
   "metadata": {},
   "outputs": [
    {
     "data": {
      "text/plain": [
       "Text(0, 0.5, 'Proportion deaths')"
      ]
     },
     "execution_count": 43,
     "metadata": {},
     "output_type": "execute_result"
    },
    {
     "data": {
      "image/png": "[encoded data removed]",
      "text/plain": [
       "<Figure size 432x288 with 1 Axes>"
      ]
     },
     "metadata": {
      "needs_background": "light"
     },
     "output_type": "display_data"
    }
   ],
   "source": [
    "%matplotlib inline\n",
    "ax = yearly1.plot(x='year', y='proportion_deaths', label='clinic 1')\n",
    "yearly2.plot(x='year', y='proportion_deaths', label='clinic 2', ax=ax)\n",
    "ax.set_ylabel('Proportion deaths')"
   ]
  },
  {
   "cell_type": "markdown",
   "metadata": {},
   "source": [
    "# Task 4: Instructions"
   ]
  },
  {
   "cell_type": "raw",
   "metadata": {},
   "source": [
    "1.Load in the dataset with the monthly number of deaths for Clinic 1.\n",
    "2.Read in datasets/monthly_deaths.csv and assign it to the variable monthly. Make sure to tell read_csv to parse the date column as a date.\n",
    "3.Calculate the proportion of deaths per number of births and store the result in the new column monthly[\"proportion_deaths\"].\n",
    "4.Print out the first rows in monthly using the head() method."
   ]
  },
  {
   "cell_type": "code",
   "execution_count": 32,
   "metadata": {},
   "outputs": [],
   "source": [
    "monthly= pd.read_csv(r'C:\\Users\\rahul\\Downloads\\datasets\\datasets\\monthly_deaths.csv',parse_dates=[\"date\"])"
   ]
  },
  {
   "cell_type": "code",
   "execution_count": 33,
   "metadata": {},
   "outputs": [
    {
     "data": {
      "text/html": [
       "<div>\n",
       "<style scoped>\n",
       "    .dataframe tbody tr th:only-of-type {\n",
       "        vertical-align: middle;\n",
       "    }\n",
       "\n",
       "    .dataframe tbody tr th {\n",
       "        vertical-align: top;\n",
       "    }\n",
       "\n",
       "    .dataframe thead th {\n",
       "        text-align: right;\n",
       "    }\n",
       "</style>\n",
       "<table border=\"1\" class=\"dataframe\">\n",
       "  <thead>\n",
       "    <tr style=\"text-align: right;\">\n",
       "      <th></th>\n",
       "      <th>date</th>\n",
       "      <th>births</th>\n",
       "      <th>deaths</th>\n",
       "    </tr>\n",
       "  </thead>\n",
       "  <tbody>\n",
       "    <tr>\n",
       "      <th>0</th>\n",
       "      <td>1841-01-01</td>\n",
       "      <td>254</td>\n",
       "      <td>37</td>\n",
       "    </tr>\n",
       "    <tr>\n",
       "      <th>1</th>\n",
       "      <td>1841-02-01</td>\n",
       "      <td>239</td>\n",
       "      <td>18</td>\n",
       "    </tr>\n",
       "    <tr>\n",
       "      <th>2</th>\n",
       "      <td>1841-03-01</td>\n",
       "      <td>277</td>\n",
       "      <td>12</td>\n",
       "    </tr>\n",
       "    <tr>\n",
       "      <th>3</th>\n",
       "      <td>1841-04-01</td>\n",
       "      <td>255</td>\n",
       "      <td>4</td>\n",
       "    </tr>\n",
       "    <tr>\n",
       "      <th>4</th>\n",
       "      <td>1841-05-01</td>\n",
       "      <td>255</td>\n",
       "      <td>2</td>\n",
       "    </tr>\n",
       "    <tr>\n",
       "      <th>...</th>\n",
       "      <td>...</td>\n",
       "      <td>...</td>\n",
       "      <td>...</td>\n",
       "    </tr>\n",
       "    <tr>\n",
       "      <th>93</th>\n",
       "      <td>1848-11-01</td>\n",
       "      <td>310</td>\n",
       "      <td>9</td>\n",
       "    </tr>\n",
       "    <tr>\n",
       "      <th>94</th>\n",
       "      <td>1848-12-01</td>\n",
       "      <td>373</td>\n",
       "      <td>5</td>\n",
       "    </tr>\n",
       "    <tr>\n",
       "      <th>95</th>\n",
       "      <td>1849-01-01</td>\n",
       "      <td>403</td>\n",
       "      <td>9</td>\n",
       "    </tr>\n",
       "    <tr>\n",
       "      <th>96</th>\n",
       "      <td>1849-02-01</td>\n",
       "      <td>389</td>\n",
       "      <td>12</td>\n",
       "    </tr>\n",
       "    <tr>\n",
       "      <th>97</th>\n",
       "      <td>1849-03-01</td>\n",
       "      <td>406</td>\n",
       "      <td>20</td>\n",
       "    </tr>\n",
       "  </tbody>\n",
       "</table>\n",
       "<p>98 rows × 3 columns</p>\n",
       "</div>"
      ],
      "text/plain": [
       "         date  births  deaths\n",
       "0  1841-01-01     254      37\n",
       "1  1841-02-01     239      18\n",
       "2  1841-03-01     277      12\n",
       "3  1841-04-01     255       4\n",
       "4  1841-05-01     255       2\n",
       "..        ...     ...     ...\n",
       "93 1848-11-01     310       9\n",
       "94 1848-12-01     373       5\n",
       "95 1849-01-01     403       9\n",
       "96 1849-02-01     389      12\n",
       "97 1849-03-01     406      20\n",
       "\n",
       "[98 rows x 3 columns]"
      ]
     },
     "execution_count": 33,
     "metadata": {},
     "output_type": "execute_result"
    }
   ],
   "source": [
    "monthly"
   ]
  },
  {
   "cell_type": "code",
   "execution_count": 34,
   "metadata": {},
   "outputs": [
    {
     "data": {
      "text/html": [
       "<div>\n",
       "<style scoped>\n",
       "    .dataframe tbody tr th:only-of-type {\n",
       "        vertical-align: middle;\n",
       "    }\n",
       "\n",
       "    .dataframe tbody tr th {\n",
       "        vertical-align: top;\n",
       "    }\n",
       "\n",
       "    .dataframe thead th {\n",
       "        text-align: right;\n",
       "    }\n",
       "</style>\n",
       "<table border=\"1\" class=\"dataframe\">\n",
       "  <thead>\n",
       "    <tr style=\"text-align: right;\">\n",
       "      <th></th>\n",
       "      <th>proportion_deaths</th>\n",
       "    </tr>\n",
       "  </thead>\n",
       "  <tbody>\n",
       "    <tr>\n",
       "      <th>0</th>\n",
       "      <td>0.145669</td>\n",
       "    </tr>\n",
       "    <tr>\n",
       "      <th>1</th>\n",
       "      <td>0.075314</td>\n",
       "    </tr>\n",
       "    <tr>\n",
       "      <th>2</th>\n",
       "      <td>0.043321</td>\n",
       "    </tr>\n",
       "    <tr>\n",
       "      <th>3</th>\n",
       "      <td>0.015686</td>\n",
       "    </tr>\n",
       "    <tr>\n",
       "      <th>4</th>\n",
       "      <td>0.007843</td>\n",
       "    </tr>\n",
       "    <tr>\n",
       "      <th>...</th>\n",
       "      <td>...</td>\n",
       "    </tr>\n",
       "    <tr>\n",
       "      <th>93</th>\n",
       "      <td>0.029032</td>\n",
       "    </tr>\n",
       "    <tr>\n",
       "      <th>94</th>\n",
       "      <td>0.013405</td>\n",
       "    </tr>\n",
       "    <tr>\n",
       "      <th>95</th>\n",
       "      <td>0.022333</td>\n",
       "    </tr>\n",
       "    <tr>\n",
       "      <th>96</th>\n",
       "      <td>0.030848</td>\n",
       "    </tr>\n",
       "    <tr>\n",
       "      <th>97</th>\n",
       "      <td>0.049261</td>\n",
       "    </tr>\n",
       "  </tbody>\n",
       "</table>\n",
       "<p>98 rows × 1 columns</p>\n",
       "</div>"
      ],
      "text/plain": [
       "    proportion_deaths\n",
       "0            0.145669\n",
       "1            0.075314\n",
       "2            0.043321\n",
       "3            0.015686\n",
       "4            0.007843\n",
       "..                ...\n",
       "93           0.029032\n",
       "94           0.013405\n",
       "95           0.022333\n",
       "96           0.030848\n",
       "97           0.049261\n",
       "\n",
       "[98 rows x 1 columns]"
      ]
     },
     "execution_count": 34,
     "metadata": {},
     "output_type": "execute_result"
    }
   ],
   "source": [
    "monthly[\"proportion_deaths\"]= my_df['deaths']/ my_df['births']\n",
    "monthly[[\"proportion_deaths\"]]"
   ]
  },
  {
   "cell_type": "code",
   "execution_count": 35,
   "metadata": {},
   "outputs": [
    {
     "data": {
      "text/html": [
       "<div>\n",
       "<style scoped>\n",
       "    .dataframe tbody tr th:only-of-type {\n",
       "        vertical-align: middle;\n",
       "    }\n",
       "\n",
       "    .dataframe tbody tr th {\n",
       "        vertical-align: top;\n",
       "    }\n",
       "\n",
       "    .dataframe thead th {\n",
       "        text-align: right;\n",
       "    }\n",
       "</style>\n",
       "<table border=\"1\" class=\"dataframe\">\n",
       "  <thead>\n",
       "    <tr style=\"text-align: right;\">\n",
       "      <th></th>\n",
       "      <th>date</th>\n",
       "      <th>births</th>\n",
       "      <th>deaths</th>\n",
       "      <th>proportion_deaths</th>\n",
       "    </tr>\n",
       "  </thead>\n",
       "  <tbody>\n",
       "    <tr>\n",
       "      <th>0</th>\n",
       "      <td>1841-01-01</td>\n",
       "      <td>254</td>\n",
       "      <td>37</td>\n",
       "      <td>0.145669</td>\n",
       "    </tr>\n",
       "    <tr>\n",
       "      <th>1</th>\n",
       "      <td>1841-02-01</td>\n",
       "      <td>239</td>\n",
       "      <td>18</td>\n",
       "      <td>0.075314</td>\n",
       "    </tr>\n",
       "    <tr>\n",
       "      <th>2</th>\n",
       "      <td>1841-03-01</td>\n",
       "      <td>277</td>\n",
       "      <td>12</td>\n",
       "      <td>0.043321</td>\n",
       "    </tr>\n",
       "    <tr>\n",
       "      <th>3</th>\n",
       "      <td>1841-04-01</td>\n",
       "      <td>255</td>\n",
       "      <td>4</td>\n",
       "      <td>0.015686</td>\n",
       "    </tr>\n",
       "    <tr>\n",
       "      <th>4</th>\n",
       "      <td>1841-05-01</td>\n",
       "      <td>255</td>\n",
       "      <td>2</td>\n",
       "      <td>0.007843</td>\n",
       "    </tr>\n",
       "  </tbody>\n",
       "</table>\n",
       "</div>"
      ],
      "text/plain": [
       "        date  births  deaths  proportion_deaths\n",
       "0 1841-01-01     254      37           0.145669\n",
       "1 1841-02-01     239      18           0.075314\n",
       "2 1841-03-01     277      12           0.043321\n",
       "3 1841-04-01     255       4           0.015686\n",
       "4 1841-05-01     255       2           0.007843"
      ]
     },
     "execution_count": 35,
     "metadata": {},
     "output_type": "execute_result"
    }
   ],
   "source": [
    "monthly.head()"
   ]
  },
  {
   "cell_type": "markdown",
   "metadata": {},
   "source": [
    "# Task 5: Instructions"
   ]
  },
  {
   "cell_type": "raw",
   "metadata": {},
   "source": [
    "1.Plot the monthly proportion of deaths for Clinic 1.\n",
    "2.Plot proportion_deaths by date for the monthly date using the DataFrame plot method.\n",
    "3.Save the Axes object returned by the plot method into the variable ax.\n",
    "4.Change the y-axis label to \"Proportion deaths\""
   ]
  },
  {
   "cell_type": "code",
   "execution_count": 36,
   "metadata": {},
   "outputs": [
    {
     "data": {
      "text/plain": [
       "Text(0, 0.5, 'proportion death')"
      ]
     },
     "execution_count": 36,
     "metadata": {},
     "output_type": "execute_result"
    },
    {
     "data": {
      "image/png": "[encoded data removed]",
      "text/plain": [
       "<Figure size 432x288 with 1 Axes>"
      ]
     },
     "metadata": {
      "needs_background": "light"
     },
     "output_type": "display_data"
    }
   ],
   "source": [
    "ax = monthly.plot(x='date' , y='proportion_deaths' , label='proportion_date' )\n",
    "ax.set_ylabel ('proportion death')"
   ]
  },
  {
   "cell_type": "markdown",
   "metadata": {},
   "source": [
    "# Task 6: Instructions"
   ]
  },
  {
   "cell_type": "raw",
   "metadata": {},
   "source": [
    "1.Make a plot that highlights the effect of handwashing.\n",
    "2.Split monthly into before_washing (the rows in monthly before handwashing_start) and after_washing (the rows in monthly at and after handwashing_start).\n",
    "3.Plot proportion_deaths in before_washing and after_washing into the same plot. Use the DataFrame plot method.\n",
    "4.Label the plotted lines using the label argument to plot.\n",
    "5.Save the Axes object returned by the plot method into the variable ax.\n",
    "6.Change the y-axis label to \"Proportion deaths\"."
   ]
  },
  {
   "cell_type": "code",
   "execution_count": 44,
   "metadata": {},
   "outputs": [
    {
     "data": {
      "text/plain": [
       "Text(0, 0.5, 'Proportion deaths')"
      ]
     },
     "execution_count": 44,
     "metadata": {},
     "output_type": "execute_result"
    },
    {
     "data": {
      "image/png": "[encoded data removed]",
      "text/plain": [
       "<Figure size 432x288 with 1 Axes>"
      ]
     },
     "metadata": {
      "needs_background": "light"
     },
     "output_type": "display_data"
    }
   ],
   "source": [
    "handwashing_start = pd.to_datetime('1847-06-01')\n",
    "before_washing = monthly[monthly.date < handwashing_start]\n",
    "after_washing = monthly[monthly.date >= handwashing_start]\n",
    "ax = before_washing.plot(x='date', y='proportion_deaths', label='Before handwashing')\n",
    "after_washing.plot(x='date', y='proportion_deaths', label='After handwashing', ax=ax)\n",
    "ax.set_ylabel('Proportion deaths')"
   ]
  },
  {
   "cell_type": "markdown",
   "metadata": {},
   "source": [
    "# Task 7: Instructions"
   ]
  },
  {
   "cell_type": "raw",
   "metadata": {},
   "source": [
    "1.Calculate the average reduction in proportion of deaths due to handwashing.\n",
    "2.Select the column proportion_deaths in before_washing and put it into before_proportion.\n",
    "3.Do the same for proportion_deaths in after_washing and put it into after_proportion.\n",
    "4.Calculate the difference in mean monthly proportion of deaths as mean after_proportion minus mean before_proportion."
   ]
  },
  {
   "cell_type": "code",
   "execution_count": 45,
   "metadata": {},
   "outputs": [
    {
     "name": "stdout",
     "output_type": "stream",
     "text": [
      "-0.0839566075118334\n"
     ]
    }
   ],
   "source": [
    "before_proportion = before_washing.proportion_deaths\n",
    "after_proportion = after_washing.proportion_deaths\n",
    "mean_diff = after_proportion.mean() - before_proportion.mean() \n",
    "print(mean_diff)"
   ]
  },
  {
   "cell_type": "markdown",
   "metadata": {},
   "source": [
    "# Task 8: Instructions"
   ]
  },
  {
   "cell_type": "raw",
   "metadata": {},
   "source": [
    "1.Make a bootstrap analysis of the difference in mean monthly proportion of deaths.\n",
    "2.boot_before and boot_after should be sampled with replacement from before_proportion and after_proportion.\n",
    "3.Append 3000 bootstrapped differences in means to boot_mean_diff.\n",
    "4.Calculate a 95% confidence_interval as the 2.5% and 97.5% quantiles of boot_mean_diff"
   ]
  },
  {
   "cell_type": "code",
   "execution_count": 49,
   "metadata": {},
   "outputs": [
    {
     "name": "stdout",
     "output_type": "stream",
     "text": [
      "[-0.10096492 -0.06696037]\n"
     ]
    }
   ],
   "source": [
    "from numpy import percentile\n",
    "boot_mean_diff = []\n",
    "for i in range(3000):\n",
    "    boot_before = before_proportion.sample(frac=1, replace=True)\n",
    "    boot_after = after_proportion.sample(frac=1, replace=True)\n",
    "    boot_mean_diff.append(boot_after.mean() - boot_before.mean())\n",
    "\n",
    "confidence_interval = percentile(boot_mean_diff, [2.5, 97.5])\n",
    "print(confidence_interval)"
   ]
  },
  {
   "cell_type": "markdown",
   "metadata": {},
   "source": [
    "# Task 9: Instructions"
   ]
  },
  {
   "cell_type": "raw",
   "metadata": {},
   "source": [
    "1.Given the data Semmelweis collected, is it True or False that doctors should wash their hands?"
   ]
  },
  {
   "cell_type": "code",
   "execution_count": 50,
   "metadata": {},
   "outputs": [],
   "source": [
    "doctors_should_wash_their_hands = True"
   ]
  }
 ],
 "metadata": {
  "kernelspec": {
   "display_name": "Python 3",
   "language": "python",
   "name": "python3"
  },
  "language_info": {
   "codemirror_mode": {
    "name": "ipython",
    "version": 3
   },
   "file_extension": ".py",
   "mimetype": "text/x-python",
   "name": "python",
   "nbconvert_exporter": "python",
   "pygments_lexer": "ipython3",
   "version": "3.8.3"
  }
 },
 "nbformat": 4,
 "nbformat_minor": 4
}
