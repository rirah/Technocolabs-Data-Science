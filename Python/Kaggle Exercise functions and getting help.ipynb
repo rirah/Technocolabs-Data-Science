{
 "cells": [
  {
   "cell_type": "markdown",
   "metadata": {
    "papermill": {
     "duration": 0.014268,
     "end_time": "2020-09-21T07:55:20.227458",
     "exception": false,
     "start_time": "2020-09-21T07:55:20.213190",
     "status": "completed"
    },
    "tags": []
   },
   "source": [
    "**[Python Home Page](https://www.kaggle.com/learn/python)**\n",
    "\n",
    "---\n"
   ]
  },
  {
   "cell_type": "markdown",
   "metadata": {
    "papermill": {
     "duration": 0.013115,
     "end_time": "2020-09-21T07:55:20.254024",
     "exception": false,
     "start_time": "2020-09-21T07:55:20.240909",
     "status": "completed"
    },
    "tags": []
   },
   "source": [
    "# Try It Yourself\n",
    "\n",
    "Functions are powerful. Try writing some yourself.\n",
    "\n",
    "As before, don't forget to run the setup code below before jumping into question 1."
   ]
  },
  {
   "cell_type": "code",
   "execution_count": 1,
   "metadata": {
    "_kg_hide-input": true,
    "_kg_hide-output": true,
    "execution": {
     "iopub.execute_input": "2020-09-21T07:55:20.287389Z",
     "iopub.status.busy": "2020-09-21T07:55:20.286610Z",
     "iopub.status.idle": "2020-09-21T07:55:20.330456Z",
     "shell.execute_reply": "2020-09-21T07:55:20.329560Z"
    },
    "papermill": {
     "duration": 0.063367,
     "end_time": "2020-09-21T07:55:20.330634",
     "exception": false,
     "start_time": "2020-09-21T07:55:20.267267",
     "status": "completed"
    },
    "tags": []
   },
   "outputs": [
    {
     "name": "stdout",
     "output_type": "stream",
     "text": [
      "Setup complete.\n"
     ]
    }
   ],
   "source": [
    "# SETUP. You don't need to worry for now about what this code does or how it works.\n",
    "from learntools.core import binder; binder.bind(globals())\n",
    "from learntools.python.ex2 import *\n",
    "print('Setup complete.')"
   ]
  },
  {
   "cell_type": "markdown",
   "metadata": {
    "papermill": {
     "duration": 0.014075,
     "end_time": "2020-09-21T07:55:20.359676",
     "exception": false,
     "start_time": "2020-09-21T07:55:20.345601",
     "status": "completed"
    },
    "tags": []
   },
   "source": [
    "# Exercises"
   ]
  },
  {
   "cell_type": "markdown",
   "metadata": {
    "papermill": {
     "duration": 0.013402,
     "end_time": "2020-09-21T07:55:20.387152",
     "exception": false,
     "start_time": "2020-09-21T07:55:20.373750",
     "status": "completed"
    },
    "tags": []
   },
   "source": [
    "## 1.\n",
    "\n",
    "Complete the body of the following function according to its docstring.\n",
    "\n",
    "HINT: Python has a built-in function `round`."
   ]
  },
  {
   "cell_type": "code",
   "execution_count": 2,
   "metadata": {
    "execution": {
     "iopub.execute_input": "2020-09-21T07:55:20.422989Z",
     "iopub.status.busy": "2020-09-21T07:55:20.422236Z",
     "iopub.status.idle": "2020-09-21T07:55:20.428261Z",
     "shell.execute_reply": "2020-09-21T07:55:20.427608Z"
    },
    "papermill": {
     "duration": 0.027119,
     "end_time": "2020-09-21T07:55:20.428388",
     "exception": false,
     "start_time": "2020-09-21T07:55:20.401269",
     "status": "completed"
    },
    "tags": []
   },
   "outputs": [
    {
     "data": {
      "application/javascript": [
       "parent.postMessage({\"jupyterEvent\": \"custom.exercise_interaction\", \"data\": {\"outcomeType\": 1, \"valueTowardsCompletion\": 0.16666666666666666, \"interactionType\": 1, \"questionType\": 2, \"questionId\": \"1_RoundFunctionProblem\", \"learnToolsVersion\": \"0.3.4\", \"failureMessage\": \"\", \"exceptionClass\": \"\", \"trace\": \"\"}}, \"*\")"
      ],
      "text/plain": [
       "<IPython.core.display.Javascript object>"
      ]
     },
     "metadata": {},
     "output_type": "display_data"
    },
    {
     "data": {
      "text/markdown": [
       "<span style=\"color:#33cc33\">Correct</span>"
      ],
      "text/plain": [
       "Correct"
      ]
     },
     "metadata": {},
     "output_type": "display_data"
    }
   ],
   "source": [
    "def round_to_two_places(num):\n",
    "    \"\"\"Return the given number rounded to two decimal places. \n",
    "    \n",
    "    >>> round_to_two_places(3.14159)\n",
    "    3.14\n",
    "    \"\"\"\n",
    "    return round(num, 2) \n",
    "num = 3.14159\n",
    "# Check your answer\n",
    "q1.check()"
   ]
  },
  {
   "cell_type": "code",
   "execution_count": 3,
   "metadata": {
    "execution": {
     "iopub.execute_input": "2020-09-21T07:55:20.465397Z",
     "iopub.status.busy": "2020-09-21T07:55:20.464440Z",
     "iopub.status.idle": "2020-09-21T07:55:20.467507Z",
     "shell.execute_reply": "2020-09-21T07:55:20.466824Z"
    },
    "papermill": {
     "duration": 0.022002,
     "end_time": "2020-09-21T07:55:20.467611",
     "exception": false,
     "start_time": "2020-09-21T07:55:20.445609",
     "status": "completed"
    },
    "tags": []
   },
   "outputs": [],
   "source": [
    "# Uncomment the following for a hint\n",
    "#q1.hint()\n",
    "# Or uncomment the following to peek at the solution\n",
    "#q1.solution()"
   ]
  },
  {
   "cell_type": "markdown",
   "metadata": {
    "papermill": {
     "duration": 0.015442,
     "end_time": "2020-09-21T07:55:20.498446",
     "exception": false,
     "start_time": "2020-09-21T07:55:20.483004",
     "status": "completed"
    },
    "tags": []
   },
   "source": [
    "## 2.\n",
    "The help for `round` says that `ndigits` (the second argument) may be negative.\n",
    "What do you think will happen when it is? Try some examples in the following cell?\n",
    "\n",
    "Can you think of a case where this would be useful?"
   ]
  },
  {
   "cell_type": "code",
   "execution_count": 4,
   "metadata": {
    "execution": {
     "iopub.execute_input": "2020-09-21T07:55:20.535798Z",
     "iopub.status.busy": "2020-09-21T07:55:20.534981Z",
     "iopub.status.idle": "2020-09-21T07:55:20.537902Z",
     "shell.execute_reply": "2020-09-21T07:55:20.538456Z"
    },
    "papermill": {
     "duration": 0.024119,
     "end_time": "2020-09-21T07:55:20.538574",
     "exception": false,
     "start_time": "2020-09-21T07:55:20.514455",
     "status": "completed"
    },
    "tags": []
   },
   "outputs": [
    {
     "name": "stdout",
     "output_type": "stream",
     "text": [
      "409250000\n"
     ]
    }
   ],
   "source": [
    "def round_test(num):\n",
    "    return round(num, -4)\n",
    "\n",
    "print (round_test(409247027))"
   ]
  },
  {
   "cell_type": "code",
   "execution_count": 5,
   "metadata": {
    "execution": {
     "iopub.execute_input": "2020-09-21T07:55:20.575758Z",
     "iopub.status.busy": "2020-09-21T07:55:20.574892Z",
     "iopub.status.idle": "2020-09-21T07:55:20.580866Z",
     "shell.execute_reply": "2020-09-21T07:55:20.580156Z"
    },
    "papermill": {
     "duration": 0.026016,
     "end_time": "2020-09-21T07:55:20.580972",
     "exception": false,
     "start_time": "2020-09-21T07:55:20.554956",
     "status": "completed"
    },
    "tags": []
   },
   "outputs": [
    {
     "data": {
      "application/javascript": [
       "parent.postMessage({\"jupyterEvent\": \"custom.exercise_interaction\", \"data\": {\"interactionType\": 3, \"questionType\": 4, \"questionId\": \"2_RoundNdigitsProblem\", \"learnToolsVersion\": \"0.3.4\", \"valueTowardsCompletion\": 0.0, \"failureMessage\": \"\", \"exceptionClass\": \"\", \"trace\": \"\", \"outcomeType\": 4}}, \"*\")"
      ],
      "text/plain": [
       "<IPython.core.display.Javascript object>"
      ]
     },
     "metadata": {},
     "output_type": "display_data"
    },
    {
     "data": {
      "text/markdown": [
       "<span style=\"color:#33cc99\">Solution:</span> As you've seen, `ndigits=-1` rounds to the nearest 10, `ndigits=-2` rounds to the nearest 100 and so on. Where might this be useful? Suppose we're dealing with large numbers:\n",
       "\n",
       "> The area of Finland is 338,424 km²  \n",
       "> The area of Greenland is 2,166,086 km²\n",
       "\n",
       "We probably don't care whether it's really 338,424, or 338,425, or 338,177. All those digits of accuracy are just distracting. We can chop them off by calling `round()` with `ndigits=-3`:\n",
       "\n",
       "> The area of Finland is 338,000 km²  \n",
       "> The area of Greenland is 2,166,000 km²\n",
       "\n",
       "(We'll talk about how we would get the commas later when we talk about string formatting :))\n"
      ],
      "text/plain": [
       "Solution: As you've seen, `ndigits=-1` rounds to the nearest 10, `ndigits=-2` rounds to the nearest 100 and so on. Where might this be useful? Suppose we're dealing with large numbers:\n",
       "\n",
       "> The area of Finland is 338,424 km²  \n",
       "> The area of Greenland is 2,166,086 km²\n",
       "\n",
       "We probably don't care whether it's really 338,424, or 338,425, or 338,177. All those digits of accuracy are just distracting. We can chop them off by calling `round()` with `ndigits=-3`:\n",
       "\n",
       "> The area of Finland is 338,000 km²  \n",
       "> The area of Greenland is 2,166,000 km²\n",
       "\n",
       "(We'll talk about how we would get the commas later when we talk about string formatting :))"
      ]
     },
     "metadata": {},
     "output_type": "display_data"
    }
   ],
   "source": [
    "# Check your answer (Run this code cell to receive credit!)\n",
    "q2.solution()"
   ]
  },
  {
   "cell_type": "markdown",
   "metadata": {
    "papermill": {
     "duration": 0.017563,
     "end_time": "2020-09-21T07:55:20.617057",
     "exception": false,
     "start_time": "2020-09-21T07:55:20.599494",
     "status": "completed"
    },
    "tags": []
   },
   "source": [
    "## 3.\n",
    "\n",
    "In a previous programming problem, the candy-sharing friends Alice, Bob and Carol tried to split candies evenly. For the sake of their friendship, any candies left over would be smashed. For example, if they collectively bring home 91 candies, they'll take 30 each and smash 1.\n",
    "\n",
    "Below is a simple function that will calculate the number of candies to smash for *any* number of total candies.\n",
    "\n",
    "Modify it so that it optionally takes a second argument representing the number of friends the candies are being split between. If no second argument is provided, it should assume 3 friends, as before.\n",
    "\n",
    "Update the docstring to reflect this new behaviour."
   ]
  },
  {
   "cell_type": "code",
   "execution_count": 6,
   "metadata": {
    "execution": {
     "iopub.execute_input": "2020-09-21T07:55:20.659379Z",
     "iopub.status.busy": "2020-09-21T07:55:20.658325Z",
     "iopub.status.idle": "2020-09-21T07:55:20.666148Z",
     "shell.execute_reply": "2020-09-21T07:55:20.665524Z"
    },
    "papermill": {
     "duration": 0.031478,
     "end_time": "2020-09-21T07:55:20.666253",
     "exception": false,
     "start_time": "2020-09-21T07:55:20.634775",
     "status": "completed"
    },
    "tags": []
   },
   "outputs": [
    {
     "name": "stdout",
     "output_type": "stream",
     "text": [
      "8\n",
      "2\n"
     ]
    },
    {
     "data": {
      "application/javascript": [
       "parent.postMessage({\"jupyterEvent\": \"custom.exercise_interaction\", \"data\": {\"outcomeType\": 1, \"valueTowardsCompletion\": 0.16666666666666666, \"interactionType\": 1, \"questionType\": 2, \"questionId\": \"3_CandySmashingFunctionProblem\", \"learnToolsVersion\": \"0.3.4\", \"failureMessage\": \"\", \"exceptionClass\": \"\", \"trace\": \"\"}}, \"*\")"
      ],
      "text/plain": [
       "<IPython.core.display.Javascript object>"
      ]
     },
     "metadata": {},
     "output_type": "display_data"
    },
    {
     "data": {
      "text/markdown": [
       "<span style=\"color:#33cc33\">Correct</span>"
      ],
      "text/plain": [
       "Correct"
      ]
     },
     "metadata": {},
     "output_type": "display_data"
    }
   ],
   "source": [
    "def to_smash(total_candies ,n=3):\n",
    "    \"\"\"Return the number of leftover candies that must be smashed after distributing\n",
    "    the given number of candies evenly between 3 friends.\n",
    "    \n",
    "    >>> to_smash(91)\n",
    "    1\n",
    "    \"\"\"\n",
    "    return total_candies % n\n",
    "print (to_smash (800, 9))\n",
    "print (to_smash (800))\n",
    "# Check your answer\n",
    "q3.check()"
   ]
  },
  {
   "cell_type": "code",
   "execution_count": 7,
   "metadata": {
    "execution": {
     "iopub.execute_input": "2020-09-21T07:55:20.709186Z",
     "iopub.status.busy": "2020-09-21T07:55:20.708483Z",
     "iopub.status.idle": "2020-09-21T07:55:20.711378Z",
     "shell.execute_reply": "2020-09-21T07:55:20.710815Z"
    },
    "papermill": {
     "duration": 0.02572,
     "end_time": "2020-09-21T07:55:20.711475",
     "exception": false,
     "start_time": "2020-09-21T07:55:20.685755",
     "status": "completed"
    },
    "tags": []
   },
   "outputs": [],
   "source": [
    "#q3.hint()"
   ]
  },
  {
   "cell_type": "code",
   "execution_count": 8,
   "metadata": {
    "execution": {
     "iopub.execute_input": "2020-09-21T07:55:20.755043Z",
     "iopub.status.busy": "2020-09-21T07:55:20.754426Z",
     "iopub.status.idle": "2020-09-21T07:55:20.756770Z",
     "shell.execute_reply": "2020-09-21T07:55:20.757291Z"
    },
    "papermill": {
     "duration": 0.026155,
     "end_time": "2020-09-21T07:55:20.757429",
     "exception": false,
     "start_time": "2020-09-21T07:55:20.731274",
     "status": "completed"
    },
    "tags": []
   },
   "outputs": [],
   "source": [
    "#q3.solution()"
   ]
  },
  {
   "cell_type": "markdown",
   "metadata": {
    "papermill": {
     "duration": 0.019744,
     "end_time": "2020-09-21T07:55:20.796812",
     "exception": false,
     "start_time": "2020-09-21T07:55:20.777068",
     "status": "completed"
    },
    "tags": []
   },
   "source": [
    "## 4. (Optional)\n",
    "\n",
    "It may not be fun, but reading and understanding error messages will be an important part of your Python career.\n",
    "\n",
    "Each code cell below contains some commented-out buggy code. For each cell...\n",
    "\n",
    "1. Read the code and predict what you think will happen when it's run.\n",
    "2. Then uncomment the code and run it to see what happens. (**Tip**: In the kernel editor, you can highlight several lines and press `ctrl`+`/` to toggle commenting.)\n",
    "3. Fix the code (so that it accomplishes its intended purpose without throwing an exception)\n",
    "\n",
    "<!-- TODO: should this be autochecked? Delta is probably pretty small. -->"
   ]
  },
  {
   "cell_type": "code",
   "execution_count": 9,
   "metadata": {
    "execution": {
     "iopub.execute_input": "2020-09-21T07:55:20.841535Z",
     "iopub.status.busy": "2020-09-21T07:55:20.840787Z",
     "iopub.status.idle": "2020-09-21T07:55:20.845569Z",
     "shell.execute_reply": "2020-09-21T07:55:20.844869Z"
    },
    "papermill": {
     "duration": 0.028886,
     "end_time": "2020-09-21T07:55:20.845677",
     "exception": false,
     "start_time": "2020-09-21T07:55:20.816791",
     "status": "completed"
    },
    "tags": []
   },
   "outputs": [
    {
     "data": {
      "text/plain": [
       "10.0"
      ]
     },
     "execution_count": 9,
     "metadata": {},
     "output_type": "execute_result"
    }
   ],
   "source": [
    "round_to_two_places(9.9999)"
   ]
  },
  {
   "cell_type": "code",
   "execution_count": 10,
   "metadata": {
    "execution": {
     "iopub.execute_input": "2020-09-21T07:55:20.892808Z",
     "iopub.status.busy": "2020-09-21T07:55:20.892021Z",
     "iopub.status.idle": "2020-09-21T07:55:20.895337Z",
     "shell.execute_reply": "2020-09-21T07:55:20.894804Z"
    },
    "papermill": {
     "duration": 0.029184,
     "end_time": "2020-09-21T07:55:20.895469",
     "exception": false,
     "start_time": "2020-09-21T07:55:20.866285",
     "status": "completed"
    },
    "tags": []
   },
   "outputs": [
    {
     "name": "stdout",
     "output_type": "stream",
     "text": [
      "5\n"
     ]
    }
   ],
   "source": [
    "x = -10\n",
    "y = 5\n",
    "# Which of the two variables above has the smallest absolute value?\n",
    "smallest_abs = min(abs(x), abs(y))\n",
    "print(smallest_abs)"
   ]
  },
  {
   "cell_type": "code",
   "execution_count": 11,
   "metadata": {
    "execution": {
     "iopub.execute_input": "2020-09-21T07:55:20.942198Z",
     "iopub.status.busy": "2020-09-21T07:55:20.941522Z",
     "iopub.status.idle": "2020-09-21T07:55:20.945079Z",
     "shell.execute_reply": "2020-09-21T07:55:20.944398Z"
    },
    "papermill": {
     "duration": 0.028877,
     "end_time": "2020-09-21T07:55:20.945185",
     "exception": false,
     "start_time": "2020-09-21T07:55:20.916308",
     "status": "completed"
    },
    "tags": []
   },
   "outputs": [
    {
     "name": "stdout",
     "output_type": "stream",
     "text": [
      "5\n"
     ]
    }
   ],
   "source": [
    "def f(x):\n",
    "    y = abs(x)\n",
    "    return y\n",
    "\n",
    "print(f(5))"
   ]
  },
  {
   "cell_type": "markdown",
   "metadata": {
    "papermill": {
     "duration": 0.021123,
     "end_time": "2020-09-21T07:55:20.987732",
     "exception": false,
     "start_time": "2020-09-21T07:55:20.966609",
     "status": "completed"
    },
    "tags": []
   },
   "source": [
    "# Keep Going\n",
    "\n",
    "Nice job with the code. Next up, you'll learn about *conditionals*, which you'll need to write interesting programs. Keep going **[here](https://www.kaggle.com/colinmorris/booleans-and-conditionals)**"
   ]
  },
  {
   "cell_type": "markdown",
   "metadata": {
    "papermill": {
     "duration": 0.020956,
     "end_time": "2020-09-21T07:55:21.030246",
     "exception": false,
     "start_time": "2020-09-21T07:55:21.009290",
     "status": "completed"
    },
    "tags": []
   },
   "source": [
    "---\n",
    "**[Python Home Page](https://www.kaggle.com/learn/python)**\n",
    "\n",
    "\n",
    "\n",
    "\n",
    "\n",
    "*Have questions or comments? Visit the [Learn Discussion forum](https://www.kaggle.com/learn-forum/161283) to chat with other Learners.*"
   ]
  }
 ],
 "metadata": {
  "kernelspec": {
   "display_name": "Python 3",
   "language": "python",
   "name": "python3"
  },
  "language_info": {
   "codemirror_mode": {
    "name": "ipython",
    "version": 3
   },
   "file_extension": ".py",
   "mimetype": "text/x-python",
   "name": "python",
   "nbconvert_exporter": "python",
   "pygments_lexer": "ipython3",
   "version": "3.7.6"
  },
  "papermill": {
   "duration": 5.411696,
   "end_time": "2020-09-21T07:55:21.158205",
   "environment_variables": {},
   "exception": null,
   "input_path": "__notebook__.ipynb",
   "output_path": "__notebook__.ipynb",
   "parameters": {},
   "start_time": "2020-09-21T07:55:15.746509",
   "version": "2.1.0"
  }
 },
 "nbformat": 4,
 "nbformat_minor": 4
}
