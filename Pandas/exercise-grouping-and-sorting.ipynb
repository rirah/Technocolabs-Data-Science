{
 "cells": [
  {
   "cell_type": "markdown",
   "metadata": {
    "papermill": {
     "duration": 0.018958,
     "end_time": "2020-09-23T06:36:53.228416",
     "exception": false,
     "start_time": "2020-09-23T06:36:53.209458",
     "status": "completed"
    },
    "tags": []
   },
   "source": [
    "**[Pandas Home Page](https://www.kaggle.com/learn/pandas)**\n",
    "\n",
    "---\n"
   ]
  },
  {
   "cell_type": "markdown",
   "metadata": {
    "papermill": {
     "duration": 0.017372,
     "end_time": "2020-09-23T06:36:53.263694",
     "exception": false,
     "start_time": "2020-09-23T06:36:53.246322",
     "status": "completed"
    },
    "tags": []
   },
   "source": [
    "# Introduction\n",
    "\n",
    "In these exercises we'll apply groupwise analysis to our dataset.\n",
    "\n",
    "Run the code cell below to load the data before running the exercises."
   ]
  },
  {
   "cell_type": "code",
   "execution_count": 1,
   "metadata": {
    "execution": {
     "iopub.execute_input": "2020-09-23T06:36:53.310348Z",
     "iopub.status.busy": "2020-09-23T06:36:53.309569Z",
     "iopub.status.idle": "2020-09-23T06:36:55.590241Z",
     "shell.execute_reply": "2020-09-23T06:36:55.590943Z"
    },
    "papermill": {
     "duration": 2.309555,
     "end_time": "2020-09-23T06:36:55.591134",
     "exception": false,
     "start_time": "2020-09-23T06:36:53.281579",
     "status": "completed"
    },
    "tags": []
   },
   "outputs": [
    {
     "name": "stdout",
     "output_type": "stream",
     "text": [
      "Setup complete.\n"
     ]
    }
   ],
   "source": [
    "import pandas as pd\n",
    "\n",
    "reviews = pd.read_csv(\"../input/wine-reviews/winemag-data-130k-v2.csv\", index_col=0)\n",
    "#pd.set_option(\"display.max_rows\", 5)\n",
    "\n",
    "from learntools.core import binder; binder.bind(globals())\n",
    "from learntools.pandas.grouping_and_sorting import *\n",
    "print(\"Setup complete.\")"
   ]
  },
  {
   "cell_type": "markdown",
   "metadata": {
    "papermill": {
     "duration": 0.019458,
     "end_time": "2020-09-23T06:36:55.629936",
     "exception": false,
     "start_time": "2020-09-23T06:36:55.610478",
     "status": "completed"
    },
    "tags": []
   },
   "source": [
    "# Exercises"
   ]
  },
  {
   "cell_type": "markdown",
   "metadata": {
    "papermill": {
     "duration": 0.017902,
     "end_time": "2020-09-23T06:36:55.666056",
     "exception": false,
     "start_time": "2020-09-23T06:36:55.648154",
     "status": "completed"
    },
    "tags": []
   },
   "source": [
    "## 1.\n",
    "Who are the most common wine reviewers in the dataset? Create a `Series` whose index is the `taster_twitter_handle` category from the dataset, and whose values count how many reviews each person wrote."
   ]
  },
  {
   "cell_type": "code",
   "execution_count": 2,
   "metadata": {
    "execution": {
     "iopub.execute_input": "2020-09-23T06:36:55.726564Z",
     "iopub.status.busy": "2020-09-23T06:36:55.725803Z",
     "iopub.status.idle": "2020-09-23T06:36:55.737300Z",
     "shell.execute_reply": "2020-09-23T06:36:55.737860Z"
    },
    "papermill": {
     "duration": 0.053628,
     "end_time": "2020-09-23T06:36:55.738028",
     "exception": false,
     "start_time": "2020-09-23T06:36:55.684400",
     "status": "completed"
    },
    "tags": []
   },
   "outputs": [
    {
     "data": {
      "application/javascript": [
       "parent.postMessage({\"jupyterEvent\": \"custom.exercise_interaction\", \"data\": {\"outcomeType\": 1, \"valueTowardsCompletion\": 0.16666666666666666, \"interactionType\": 1, \"questionType\": 1, \"questionId\": \"1_ReviewsWritten\", \"learnToolsVersion\": \"0.3.4\", \"failureMessage\": \"\", \"exceptionClass\": \"\", \"trace\": \"\"}}, \"*\")"
      ],
      "text/plain": [
       "<IPython.core.display.Javascript object>"
      ]
     },
     "metadata": {},
     "output_type": "display_data"
    },
    {
     "data": {
      "text/markdown": [
       "<span style=\"color:#33cc33\">Correct:</span> \n",
       "\n",
       "\n",
       "```python\n",
       "reviews_written = reviews.groupby('taster_twitter_handle').size()\n",
       "```\n",
       "or\n",
       "```python\n",
       "reviews_written = reviews.groupby('taster_twitter_handle').taster_twitter_handle.count()\n",
       "```\n"
      ],
      "text/plain": [
       "Correct: \n",
       "\n",
       "\n",
       "```python\n",
       "reviews_written = reviews.groupby('taster_twitter_handle').size()\n",
       "```\n",
       "or\n",
       "```python\n",
       "reviews_written = reviews.groupby('taster_twitter_handle').taster_twitter_handle.count()\n",
       "```"
      ]
     },
     "metadata": {},
     "output_type": "display_data"
    }
   ],
   "source": [
    "# Your code here\n",
    "reviews_written = reviews.groupby('taster_twitter_handle').size()\n",
    "# Check your answer\n",
    "q1.check()"
   ]
  },
  {
   "cell_type": "code",
   "execution_count": 3,
   "metadata": {
    "execution": {
     "iopub.execute_input": "2020-09-23T06:36:55.783019Z",
     "iopub.status.busy": "2020-09-23T06:36:55.782055Z",
     "iopub.status.idle": "2020-09-23T06:36:55.785279Z",
     "shell.execute_reply": "2020-09-23T06:36:55.784602Z"
    },
    "papermill": {
     "duration": 0.027151,
     "end_time": "2020-09-23T06:36:55.785410",
     "exception": false,
     "start_time": "2020-09-23T06:36:55.758259",
     "status": "completed"
    },
    "tags": []
   },
   "outputs": [],
   "source": [
    "#q1.hint()\n",
    "#q1.solution()"
   ]
  },
  {
   "cell_type": "markdown",
   "metadata": {
    "papermill": {
     "duration": 0.01981,
     "end_time": "2020-09-23T06:36:55.825493",
     "exception": false,
     "start_time": "2020-09-23T06:36:55.805683",
     "status": "completed"
    },
    "tags": []
   },
   "source": [
    "## 2.\n",
    "What is the best wine I can buy for a given amount of money? Create a `Series` whose index is wine prices and whose values is the maximum number of points a wine costing that much was given in a review. Sort the values by price, ascending (so that `4.0` dollars is at the top and `3300.0` dollars is at the bottom)."
   ]
  },
  {
   "cell_type": "code",
   "execution_count": 4,
   "metadata": {
    "execution": {
     "iopub.execute_input": "2020-09-23T06:36:55.872159Z",
     "iopub.status.busy": "2020-09-23T06:36:55.871444Z",
     "iopub.status.idle": "2020-09-23T06:36:55.884158Z",
     "shell.execute_reply": "2020-09-23T06:36:55.883390Z"
    },
    "papermill": {
     "duration": 0.038469,
     "end_time": "2020-09-23T06:36:55.884309",
     "exception": false,
     "start_time": "2020-09-23T06:36:55.845840",
     "status": "completed"
    },
    "tags": []
   },
   "outputs": [
    {
     "data": {
      "application/javascript": [
       "parent.postMessage({\"jupyterEvent\": \"custom.exercise_interaction\", \"data\": {\"outcomeType\": 1, \"valueTowardsCompletion\": 0.16666666666666666, \"interactionType\": 1, \"questionType\": 1, \"questionId\": \"2_BestRatingPerPrice\", \"learnToolsVersion\": \"0.3.4\", \"failureMessage\": \"\", \"exceptionClass\": \"\", \"trace\": \"\"}}, \"*\")"
      ],
      "text/plain": [
       "<IPython.core.display.Javascript object>"
      ]
     },
     "metadata": {},
     "output_type": "display_data"
    },
    {
     "data": {
      "text/markdown": [
       "<span style=\"color:#33cc33\">Correct</span>"
      ],
      "text/plain": [
       "Correct"
      ]
     },
     "metadata": {},
     "output_type": "display_data"
    }
   ],
   "source": [
    "best_rating_per_price = reviews.groupby('price').points.max().sort_index()\n",
    "\n",
    "# Check your answer\n",
    "q2.check()"
   ]
  },
  {
   "cell_type": "code",
   "execution_count": 5,
   "metadata": {
    "execution": {
     "iopub.execute_input": "2020-09-23T06:36:55.932002Z",
     "iopub.status.busy": "2020-09-23T06:36:55.931257Z",
     "iopub.status.idle": "2020-09-23T06:36:55.934521Z",
     "shell.execute_reply": "2020-09-23T06:36:55.933761Z"
    },
    "papermill": {
     "duration": 0.028813,
     "end_time": "2020-09-23T06:36:55.934642",
     "exception": false,
     "start_time": "2020-09-23T06:36:55.905829",
     "status": "completed"
    },
    "tags": []
   },
   "outputs": [],
   "source": [
    "#q2.hint()\n",
    "#q2.solution()"
   ]
  },
  {
   "cell_type": "markdown",
   "metadata": {
    "papermill": {
     "duration": 0.021436,
     "end_time": "2020-09-23T06:36:55.977900",
     "exception": false,
     "start_time": "2020-09-23T06:36:55.956464",
     "status": "completed"
    },
    "tags": []
   },
   "source": [
    "## 3.\n",
    "What are the minimum and maximum prices for each `variety` of wine? Create a `DataFrame` whose index is the `variety` category from the dataset and whose values are the `min` and `max` values thereof."
   ]
  },
  {
   "cell_type": "code",
   "execution_count": 6,
   "metadata": {
    "execution": {
     "iopub.execute_input": "2020-09-23T06:36:56.028082Z",
     "iopub.status.busy": "2020-09-23T06:36:56.027312Z",
     "iopub.status.idle": "2020-09-23T06:36:56.065482Z",
     "shell.execute_reply": "2020-09-23T06:36:56.064748Z"
    },
    "papermill": {
     "duration": 0.065918,
     "end_time": "2020-09-23T06:36:56.065601",
     "exception": false,
     "start_time": "2020-09-23T06:36:55.999683",
     "status": "completed"
    },
    "tags": []
   },
   "outputs": [
    {
     "data": {
      "application/javascript": [
       "parent.postMessage({\"jupyterEvent\": \"custom.exercise_interaction\", \"data\": {\"outcomeType\": 1, \"valueTowardsCompletion\": 0.16666666666666666, \"interactionType\": 1, \"questionType\": 1, \"questionId\": \"3_PriceExtremes\", \"learnToolsVersion\": \"0.3.4\", \"failureMessage\": \"\", \"exceptionClass\": \"\", \"trace\": \"\"}}, \"*\")"
      ],
      "text/plain": [
       "<IPython.core.display.Javascript object>"
      ]
     },
     "metadata": {},
     "output_type": "display_data"
    },
    {
     "data": {
      "text/markdown": [
       "<span style=\"color:#33cc33\">Correct</span>"
      ],
      "text/plain": [
       "Correct"
      ]
     },
     "metadata": {},
     "output_type": "display_data"
    }
   ],
   "source": [
    "price_extremes = reviews.groupby(['variety']).price.agg([min, max])\n",
    "\n",
    "# Check your answer\n",
    "q3.check()"
   ]
  },
  {
   "cell_type": "code",
   "execution_count": 7,
   "metadata": {
    "execution": {
     "iopub.execute_input": "2020-09-23T06:36:56.117526Z",
     "iopub.status.busy": "2020-09-23T06:36:56.116370Z",
     "iopub.status.idle": "2020-09-23T06:36:56.119627Z",
     "shell.execute_reply": "2020-09-23T06:36:56.118894Z"
    },
    "papermill": {
     "duration": 0.031035,
     "end_time": "2020-09-23T06:36:56.119749",
     "exception": false,
     "start_time": "2020-09-23T06:36:56.088714",
     "status": "completed"
    },
    "tags": []
   },
   "outputs": [],
   "source": [
    "#q3.hint()\n",
    "#q3.solution()"
   ]
  },
  {
   "cell_type": "markdown",
   "metadata": {
    "papermill": {
     "duration": 0.02315,
     "end_time": "2020-09-23T06:36:56.166355",
     "exception": false,
     "start_time": "2020-09-23T06:36:56.143205",
     "status": "completed"
    },
    "tags": []
   },
   "source": [
    "## 4.\n",
    "What are the most expensive wine varieties? Create a variable `sorted_varieties` containing a copy of the dataframe from the previous question where varieties are sorted in descending order based on minimum price, then on maximum price (to break ties)."
   ]
  },
  {
   "cell_type": "code",
   "execution_count": 8,
   "metadata": {
    "execution": {
     "iopub.execute_input": "2020-09-23T06:36:56.239898Z",
     "iopub.status.busy": "2020-09-23T06:36:56.239085Z",
     "iopub.status.idle": "2020-09-23T06:36:56.253641Z",
     "shell.execute_reply": "2020-09-23T06:36:56.252868Z"
    },
    "papermill": {
     "duration": 0.064168,
     "end_time": "2020-09-23T06:36:56.253765",
     "exception": false,
     "start_time": "2020-09-23T06:36:56.189597",
     "status": "completed"
    },
    "tags": []
   },
   "outputs": [
    {
     "data": {
      "application/javascript": [
       "parent.postMessage({\"jupyterEvent\": \"custom.exercise_interaction\", \"data\": {\"outcomeType\": 1, \"valueTowardsCompletion\": 0.16666666666666666, \"interactionType\": 1, \"questionType\": 1, \"questionId\": \"4_SortedVarieties\", \"learnToolsVersion\": \"0.3.4\", \"failureMessage\": \"\", \"exceptionClass\": \"\", \"trace\": \"\"}}, \"*\")"
      ],
      "text/plain": [
       "<IPython.core.display.Javascript object>"
      ]
     },
     "metadata": {},
     "output_type": "display_data"
    },
    {
     "data": {
      "text/markdown": [
       "<span style=\"color:#33cc33\">Correct</span>"
      ],
      "text/plain": [
       "Correct"
      ]
     },
     "metadata": {},
     "output_type": "display_data"
    }
   ],
   "source": [
    "sorted_varieties = reviews.groupby(['variety']).price.agg([min, max]).sort_values(by=['min', 'max'], ascending=False)\n",
    "\n",
    "# Check your answer\n",
    "q4.check()"
   ]
  },
  {
   "cell_type": "code",
   "execution_count": 9,
   "metadata": {
    "execution": {
     "iopub.execute_input": "2020-09-23T06:36:56.308588Z",
     "iopub.status.busy": "2020-09-23T06:36:56.307687Z",
     "iopub.status.idle": "2020-09-23T06:36:56.311499Z",
     "shell.execute_reply": "2020-09-23T06:36:56.310826Z"
    },
    "papermill": {
     "duration": 0.032868,
     "end_time": "2020-09-23T06:36:56.311625",
     "exception": false,
     "start_time": "2020-09-23T06:36:56.278757",
     "status": "completed"
    },
    "tags": []
   },
   "outputs": [],
   "source": [
    "#q4.hint()\n",
    "#q4.solution()"
   ]
  },
  {
   "cell_type": "markdown",
   "metadata": {
    "papermill": {
     "duration": 0.024378,
     "end_time": "2020-09-23T06:36:56.361067",
     "exception": false,
     "start_time": "2020-09-23T06:36:56.336689",
     "status": "completed"
    },
    "tags": []
   },
   "source": [
    "## 5.\n",
    "Create a `Series` whose index is reviewers and whose values is the average review score given out by that reviewer. Hint: you will need the `taster_name` and `points` columns."
   ]
  },
  {
   "cell_type": "code",
   "execution_count": 10,
   "metadata": {
    "execution": {
     "iopub.execute_input": "2020-09-23T06:36:56.434937Z",
     "iopub.status.busy": "2020-09-23T06:36:56.434090Z",
     "iopub.status.idle": "2020-09-23T06:36:56.443954Z",
     "shell.execute_reply": "2020-09-23T06:36:56.443235Z"
    },
    "papermill": {
     "duration": 0.058192,
     "end_time": "2020-09-23T06:36:56.444074",
     "exception": false,
     "start_time": "2020-09-23T06:36:56.385882",
     "status": "completed"
    },
    "tags": []
   },
   "outputs": [
    {
     "data": {
      "application/javascript": [
       "parent.postMessage({\"jupyterEvent\": \"custom.exercise_interaction\", \"data\": {\"outcomeType\": 1, \"valueTowardsCompletion\": 0.16666666666666666, \"interactionType\": 1, \"questionType\": 1, \"questionId\": \"5_ReviewerMeanRatings\", \"learnToolsVersion\": \"0.3.4\", \"failureMessage\": \"\", \"exceptionClass\": \"\", \"trace\": \"\"}}, \"*\")"
      ],
      "text/plain": [
       "<IPython.core.display.Javascript object>"
      ]
     },
     "metadata": {},
     "output_type": "display_data"
    },
    {
     "data": {
      "text/markdown": [
       "<span style=\"color:#33cc33\">Correct</span>"
      ],
      "text/plain": [
       "Correct"
      ]
     },
     "metadata": {},
     "output_type": "display_data"
    }
   ],
   "source": [
    "reviewer_mean_ratings = reviews.groupby('taster_name').points.mean()\n",
    "\n",
    "# Check your answer\n",
    "q5.check()"
   ]
  },
  {
   "cell_type": "code",
   "execution_count": 11,
   "metadata": {
    "execution": {
     "iopub.execute_input": "2020-09-23T06:36:56.501975Z",
     "iopub.status.busy": "2020-09-23T06:36:56.501034Z",
     "iopub.status.idle": "2020-09-23T06:36:56.504327Z",
     "shell.execute_reply": "2020-09-23T06:36:56.503703Z"
    },
    "papermill": {
     "duration": 0.034093,
     "end_time": "2020-09-23T06:36:56.504451",
     "exception": false,
     "start_time": "2020-09-23T06:36:56.470358",
     "status": "completed"
    },
    "tags": []
   },
   "outputs": [],
   "source": [
    "#q5.hint()\n",
    "#q5.solution()"
   ]
  },
  {
   "cell_type": "markdown",
   "metadata": {
    "papermill": {
     "duration": 0.029079,
     "end_time": "2020-09-23T06:36:56.561857",
     "exception": false,
     "start_time": "2020-09-23T06:36:56.532778",
     "status": "completed"
    },
    "tags": []
   },
   "source": [
    "Are there significant differences in the average scores assigned by the various reviewers? Run the cell below to use the `describe()` method to see a summary of the range of values."
   ]
  },
  {
   "cell_type": "code",
   "execution_count": 12,
   "metadata": {
    "execution": {
     "iopub.execute_input": "2020-09-23T06:36:56.621600Z",
     "iopub.status.busy": "2020-09-23T06:36:56.620518Z",
     "iopub.status.idle": "2020-09-23T06:36:56.630386Z",
     "shell.execute_reply": "2020-09-23T06:36:56.629610Z"
    },
    "papermill": {
     "duration": 0.042106,
     "end_time": "2020-09-23T06:36:56.630513",
     "exception": false,
     "start_time": "2020-09-23T06:36:56.588407",
     "status": "completed"
    },
    "tags": []
   },
   "outputs": [
    {
     "data": {
      "text/plain": [
       "count    19.000000\n",
       "mean     88.233026\n",
       "std       1.243610\n",
       "min      85.855422\n",
       "25%      87.323501\n",
       "50%      88.536235\n",
       "75%      88.975256\n",
       "max      90.562551\n",
       "Name: points, dtype: float64"
      ]
     },
     "execution_count": 12,
     "metadata": {},
     "output_type": "execute_result"
    }
   ],
   "source": [
    "reviewer_mean_ratings.describe()"
   ]
  },
  {
   "cell_type": "markdown",
   "metadata": {
    "papermill": {
     "duration": 0.026926,
     "end_time": "2020-09-23T06:36:56.684700",
     "exception": false,
     "start_time": "2020-09-23T06:36:56.657774",
     "status": "completed"
    },
    "tags": []
   },
   "source": [
    "## 6.\n",
    "What combination of countries and varieties are most common? Create a `Series` whose index is a `MultiIndex`of `{country, variety}` pairs. For example, a pinot noir produced in the US should map to `{\"US\", \"Pinot Noir\"}`. Sort the values in the `Series` in descending order based on wine count."
   ]
  },
  {
   "cell_type": "code",
   "execution_count": 13,
   "metadata": {
    "execution": {
     "iopub.execute_input": "2020-09-23T06:36:56.763993Z",
     "iopub.status.busy": "2020-09-23T06:36:56.744645Z",
     "iopub.status.idle": "2020-09-23T06:36:56.800846Z",
     "shell.execute_reply": "2020-09-23T06:36:56.800204Z"
    },
    "papermill": {
     "duration": 0.089027,
     "end_time": "2020-09-23T06:36:56.800969",
     "exception": false,
     "start_time": "2020-09-23T06:36:56.711942",
     "status": "completed"
    },
    "tags": []
   },
   "outputs": [
    {
     "data": {
      "application/javascript": [
       "parent.postMessage({\"jupyterEvent\": \"custom.exercise_interaction\", \"data\": {\"outcomeType\": 1, \"valueTowardsCompletion\": 0.16666666666666666, \"interactionType\": 1, \"questionType\": 1, \"questionId\": \"6_GroupbyCountryVariety\", \"learnToolsVersion\": \"0.3.4\", \"failureMessage\": \"\", \"exceptionClass\": \"\", \"trace\": \"\"}}, \"*\")"
      ],
      "text/plain": [
       "<IPython.core.display.Javascript object>"
      ]
     },
     "metadata": {},
     "output_type": "display_data"
    },
    {
     "data": {
      "text/markdown": [
       "<span style=\"color:#33cc33\">Correct</span>"
      ],
      "text/plain": [
       "Correct"
      ]
     },
     "metadata": {},
     "output_type": "display_data"
    }
   ],
   "source": [
    "reviews['n'] = 0\n",
    "country_variety_counts = reviews.groupby(['country', 'variety']).n.count().sort_values(ascending=False)\n",
    "\n",
    "# Check your answer\n",
    "q6.check()"
   ]
  },
  {
   "cell_type": "code",
   "execution_count": 14,
   "metadata": {
    "execution": {
     "iopub.execute_input": "2020-09-23T06:36:56.863631Z",
     "iopub.status.busy": "2020-09-23T06:36:56.862777Z",
     "iopub.status.idle": "2020-09-23T06:36:56.866108Z",
     "shell.execute_reply": "2020-09-23T06:36:56.865364Z"
    },
    "papermill": {
     "duration": 0.036353,
     "end_time": "2020-09-23T06:36:56.866244",
     "exception": false,
     "start_time": "2020-09-23T06:36:56.829891",
     "status": "completed"
    },
    "tags": []
   },
   "outputs": [],
   "source": [
    "#q6.hint()\n",
    "#q6.solution()"
   ]
  },
  {
   "cell_type": "markdown",
   "metadata": {
    "papermill": {
     "duration": 0.02814,
     "end_time": "2020-09-23T06:36:56.922982",
     "exception": false,
     "start_time": "2020-09-23T06:36:56.894842",
     "status": "completed"
    },
    "tags": []
   },
   "source": [
    "# Keep going\n",
    "\n",
    "Move on to the [**data types and missing data**](https://www.kaggle.com/residentmario/data-types-and-missing-values)."
   ]
  },
  {
   "cell_type": "markdown",
   "metadata": {
    "papermill": {
     "duration": 0.02809,
     "end_time": "2020-09-23T06:36:56.979408",
     "exception": false,
     "start_time": "2020-09-23T06:36:56.951318",
     "status": "completed"
    },
    "tags": []
   },
   "source": [
    "---\n",
    "**[Pandas Home Page](https://www.kaggle.com/learn/pandas)**\n",
    "\n",
    "\n",
    "\n",
    "\n",
    "\n",
    "*Have questions or comments? Visit the [Learn Discussion forum](https://www.kaggle.com/learn-forum/161299) to chat with other Learners.*"
   ]
  }
 ],
 "metadata": {
  "kernelspec": {
   "display_name": "Python 3",
   "language": "python",
   "name": "python3"
  },
  "language_info": {
   "codemirror_mode": {
    "name": "ipython",
    "version": 3
   },
   "file_extension": ".py",
   "mimetype": "text/x-python",
   "name": "python",
   "nbconvert_exporter": "python",
   "pygments_lexer": "ipython3",
   "version": "3.7.6"
  },
  "papermill": {
   "duration": 8.404718,
   "end_time": "2020-09-23T06:36:57.115972",
   "environment_variables": {},
   "exception": null,
   "input_path": "__notebook__.ipynb",
   "output_path": "__notebook__.ipynb",
   "parameters": {},
   "start_time": "2020-09-23T06:36:48.711254",
   "version": "2.1.0"
  }
 },
 "nbformat": 4,
 "nbformat_minor": 4
}
