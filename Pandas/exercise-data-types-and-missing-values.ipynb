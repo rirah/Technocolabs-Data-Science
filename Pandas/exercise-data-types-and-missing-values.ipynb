{
 "cells": [
  {
   "cell_type": "markdown",
   "metadata": {
    "papermill": {
     "duration": 0.012114,
     "end_time": "2020-09-23T05:59:45.218998",
     "exception": false,
     "start_time": "2020-09-23T05:59:45.206884",
     "status": "completed"
    },
    "tags": []
   },
   "source": [
    "**[Pandas Home Page](https://www.kaggle.com/learn/pandas)**\n",
    "\n",
    "---\n"
   ]
  },
  {
   "cell_type": "markdown",
   "metadata": {
    "papermill": {
     "duration": 0.010254,
     "end_time": "2020-09-23T05:59:45.239826",
     "exception": false,
     "start_time": "2020-09-23T05:59:45.229572",
     "status": "completed"
    },
    "tags": []
   },
   "source": [
    "# Introduction\n",
    "\n",
    "Run the following cell to load your data and some utility functions."
   ]
  },
  {
   "cell_type": "code",
   "execution_count": 1,
   "metadata": {
    "execution": {
     "iopub.execute_input": "2020-09-23T05:59:45.265242Z",
     "iopub.status.busy": "2020-09-23T05:59:45.264256Z",
     "iopub.status.idle": "2020-09-23T05:59:47.310671Z",
     "shell.execute_reply": "2020-09-23T05:59:47.311487Z"
    },
    "papermill": {
     "duration": 2.061331,
     "end_time": "2020-09-23T05:59:47.311682",
     "exception": false,
     "start_time": "2020-09-23T05:59:45.250351",
     "status": "completed"
    },
    "tags": []
   },
   "outputs": [
    {
     "name": "stdout",
     "output_type": "stream",
     "text": [
      "Setup complete.\n"
     ]
    }
   ],
   "source": [
    "import pandas as pd\n",
    "\n",
    "reviews = pd.read_csv(\"../input/wine-reviews/winemag-data-130k-v2.csv\", index_col=0)\n",
    "\n",
    "from learntools.core import binder; binder.bind(globals())\n",
    "from learntools.pandas.data_types_and_missing_data import *\n",
    "print(\"Setup complete.\")"
   ]
  },
  {
   "cell_type": "markdown",
   "metadata": {
    "papermill": {
     "duration": 0.010845,
     "end_time": "2020-09-23T05:59:47.334121",
     "exception": false,
     "start_time": "2020-09-23T05:59:47.323276",
     "status": "completed"
    },
    "tags": []
   },
   "source": [
    "# Exercises"
   ]
  },
  {
   "cell_type": "markdown",
   "metadata": {
    "papermill": {
     "duration": 0.01113,
     "end_time": "2020-09-23T05:59:47.362217",
     "exception": false,
     "start_time": "2020-09-23T05:59:47.351087",
     "status": "completed"
    },
    "tags": []
   },
   "source": [
    "## 1. \n",
    "What is the data type of the `points` column in the dataset?"
   ]
  },
  {
   "cell_type": "code",
   "execution_count": 2,
   "metadata": {
    "execution": {
     "iopub.execute_input": "2020-09-23T05:59:47.391642Z",
     "iopub.status.busy": "2020-09-23T05:59:47.390745Z",
     "iopub.status.idle": "2020-09-23T05:59:47.396968Z",
     "shell.execute_reply": "2020-09-23T05:59:47.396489Z"
    },
    "papermill": {
     "duration": 0.024098,
     "end_time": "2020-09-23T05:59:47.397094",
     "exception": false,
     "start_time": "2020-09-23T05:59:47.372996",
     "status": "completed"
    },
    "tags": []
   },
   "outputs": [
    {
     "data": {
      "application/javascript": [
       "parent.postMessage({\"jupyterEvent\": \"custom.exercise_interaction\", \"data\": {\"outcomeType\": 1, \"valueTowardsCompletion\": 0.25, \"interactionType\": 1, \"questionType\": 1, \"questionId\": \"1_PointsDtype\", \"learnToolsVersion\": \"0.3.4\", \"failureMessage\": \"\", \"exceptionClass\": \"\", \"trace\": \"\"}}, \"*\")"
      ],
      "text/plain": [
       "<IPython.core.display.Javascript object>"
      ]
     },
     "metadata": {},
     "output_type": "display_data"
    },
    {
     "data": {
      "text/markdown": [
       "<span style=\"color:#33cc33\">Correct</span>"
      ],
      "text/plain": [
       "Correct"
      ]
     },
     "metadata": {},
     "output_type": "display_data"
    }
   ],
   "source": [
    "# Your code here\n",
    "dtype = reviews.points.dtype\n",
    "\n",
    "# Check your answer\n",
    "q1.check()"
   ]
  },
  {
   "cell_type": "code",
   "execution_count": 3,
   "metadata": {
    "execution": {
     "iopub.execute_input": "2020-09-23T05:59:47.424600Z",
     "iopub.status.busy": "2020-09-23T05:59:47.423971Z",
     "iopub.status.idle": "2020-09-23T05:59:47.426966Z",
     "shell.execute_reply": "2020-09-23T05:59:47.427565Z"
    },
    "papermill": {
     "duration": 0.018456,
     "end_time": "2020-09-23T05:59:47.427700",
     "exception": false,
     "start_time": "2020-09-23T05:59:47.409244",
     "status": "completed"
    },
    "tags": []
   },
   "outputs": [],
   "source": [
    "#q1.hint()\n",
    "#q1.solution()"
   ]
  },
  {
   "cell_type": "markdown",
   "metadata": {
    "papermill": {
     "duration": 0.011997,
     "end_time": "2020-09-23T05:59:47.453462",
     "exception": false,
     "start_time": "2020-09-23T05:59:47.441465",
     "status": "completed"
    },
    "tags": []
   },
   "source": [
    "## 2. \n",
    "Create a Series from entries in the `points` column, but convert the entries to strings. Hint: strings are `str` in native Python."
   ]
  },
  {
   "cell_type": "code",
   "execution_count": 4,
   "metadata": {
    "execution": {
     "iopub.execute_input": "2020-09-23T05:59:47.481562Z",
     "iopub.status.busy": "2020-09-23T05:59:47.480869Z",
     "iopub.status.idle": "2020-09-23T05:59:47.541292Z",
     "shell.execute_reply": "2020-09-23T05:59:47.540766Z"
    },
    "papermill": {
     "duration": 0.075533,
     "end_time": "2020-09-23T05:59:47.541412",
     "exception": false,
     "start_time": "2020-09-23T05:59:47.465879",
     "status": "completed"
    },
    "tags": []
   },
   "outputs": [
    {
     "data": {
      "application/javascript": [
       "parent.postMessage({\"jupyterEvent\": \"custom.exercise_interaction\", \"data\": {\"outcomeType\": 1, \"valueTowardsCompletion\": 0.25, \"interactionType\": 1, \"questionType\": 1, \"questionId\": \"2_StrPoints\", \"learnToolsVersion\": \"0.3.4\", \"failureMessage\": \"\", \"exceptionClass\": \"\", \"trace\": \"\"}}, \"*\")"
      ],
      "text/plain": [
       "<IPython.core.display.Javascript object>"
      ]
     },
     "metadata": {},
     "output_type": "display_data"
    },
    {
     "data": {
      "text/markdown": [
       "<span style=\"color:#33cc33\">Correct</span>"
      ],
      "text/plain": [
       "Correct"
      ]
     },
     "metadata": {},
     "output_type": "display_data"
    }
   ],
   "source": [
    "point_strings = reviews.points.astype('str')\n",
    "\n",
    "# Check your answer\n",
    "q2.check()"
   ]
  },
  {
   "cell_type": "code",
   "execution_count": 5,
   "metadata": {
    "execution": {
     "iopub.execute_input": "2020-09-23T05:59:47.573757Z",
     "iopub.status.busy": "2020-09-23T05:59:47.572901Z",
     "iopub.status.idle": "2020-09-23T05:59:47.575948Z",
     "shell.execute_reply": "2020-09-23T05:59:47.575306Z"
    },
    "papermill": {
     "duration": 0.020906,
     "end_time": "2020-09-23T05:59:47.576087",
     "exception": false,
     "start_time": "2020-09-23T05:59:47.555181",
     "status": "completed"
    },
    "tags": []
   },
   "outputs": [],
   "source": [
    "#q2.hint()\n",
    "#q2.solution()"
   ]
  },
  {
   "cell_type": "markdown",
   "metadata": {
    "papermill": {
     "duration": 0.013543,
     "end_time": "2020-09-23T05:59:47.603765",
     "exception": false,
     "start_time": "2020-09-23T05:59:47.590222",
     "status": "completed"
    },
    "tags": []
   },
   "source": [
    "## 3.\n",
    "Sometimes the price column is null. How many reviews in the dataset are missing a price?"
   ]
  },
  {
   "cell_type": "code",
   "execution_count": 6,
   "metadata": {
    "execution": {
     "iopub.execute_input": "2020-09-23T05:59:47.636961Z",
     "iopub.status.busy": "2020-09-23T05:59:47.635938Z",
     "iopub.status.idle": "2020-09-23T05:59:47.642854Z",
     "shell.execute_reply": "2020-09-23T05:59:47.642369Z"
    },
    "papermill": {
     "duration": 0.025402,
     "end_time": "2020-09-23T05:59:47.642959",
     "exception": false,
     "start_time": "2020-09-23T05:59:47.617557",
     "status": "completed"
    },
    "tags": []
   },
   "outputs": [
    {
     "data": {
      "application/javascript": [
       "parent.postMessage({\"jupyterEvent\": \"custom.exercise_interaction\", \"data\": {\"outcomeType\": 1, \"valueTowardsCompletion\": 0.25, \"interactionType\": 1, \"questionType\": 1, \"questionId\": \"3_CountMissingPrices\", \"learnToolsVersion\": \"0.3.4\", \"failureMessage\": \"\", \"exceptionClass\": \"\", \"trace\": \"\"}}, \"*\")"
      ],
      "text/plain": [
       "<IPython.core.display.Javascript object>"
      ]
     },
     "metadata": {},
     "output_type": "display_data"
    },
    {
     "data": {
      "text/markdown": [
       "<span style=\"color:#33cc33\">Correct</span>"
      ],
      "text/plain": [
       "Correct"
      ]
     },
     "metadata": {},
     "output_type": "display_data"
    }
   ],
   "source": [
    "n_missing_prices = reviews.price.isnull().sum()\n",
    "\n",
    "# Check your answer\n",
    "q3.check()"
   ]
  },
  {
   "cell_type": "code",
   "execution_count": 7,
   "metadata": {
    "execution": {
     "iopub.execute_input": "2020-09-23T05:59:47.676845Z",
     "iopub.status.busy": "2020-09-23T05:59:47.676245Z",
     "iopub.status.idle": "2020-09-23T05:59:47.678683Z",
     "shell.execute_reply": "2020-09-23T05:59:47.679314Z"
    },
    "papermill": {
     "duration": 0.021473,
     "end_time": "2020-09-23T05:59:47.679454",
     "exception": false,
     "start_time": "2020-09-23T05:59:47.657981",
     "status": "completed"
    },
    "tags": []
   },
   "outputs": [],
   "source": [
    "#q3.hint()\n",
    "#q3.solution()"
   ]
  },
  {
   "cell_type": "markdown",
   "metadata": {
    "papermill": {
     "duration": 0.01475,
     "end_time": "2020-09-23T05:59:47.709469",
     "exception": false,
     "start_time": "2020-09-23T05:59:47.694719",
     "status": "completed"
    },
    "tags": []
   },
   "source": [
    "## 4.\n",
    "What are the most common wine-producing regions? Create a Series counting the number of times each value occurs in the `region_1` field. This field is often missing data, so replace missing values with `Unknown`. Sort in descending order.  Your output should look something like this:\n",
    "\n",
    "```\n",
    "Unknown                    21247\n",
    "Napa Valley                 4480\n",
    "                           ...  \n",
    "Bardolino Superiore            1\n",
    "Primitivo del Tarantino        1\n",
    "Name: region_1, Length: 1230, dtype: int64\n",
    "```"
   ]
  },
  {
   "cell_type": "code",
   "execution_count": 8,
   "metadata": {
    "execution": {
     "iopub.execute_input": "2020-09-23T05:59:47.766647Z",
     "iopub.status.busy": "2020-09-23T05:59:47.765537Z",
     "iopub.status.idle": "2020-09-23T05:59:47.853610Z",
     "shell.execute_reply": "2020-09-23T05:59:47.853072Z"
    },
    "papermill": {
     "duration": 0.129036,
     "end_time": "2020-09-23T05:59:47.853724",
     "exception": false,
     "start_time": "2020-09-23T05:59:47.724688",
     "status": "completed"
    },
    "tags": []
   },
   "outputs": [
    {
     "data": {
      "application/javascript": [
       "parent.postMessage({\"jupyterEvent\": \"custom.exercise_interaction\", \"data\": {\"outcomeType\": 1, \"valueTowardsCompletion\": 0.25, \"interactionType\": 1, \"questionType\": 2, \"questionId\": \"4_ReviewsPerRegion\", \"learnToolsVersion\": \"0.3.4\", \"failureMessage\": \"\", \"exceptionClass\": \"\", \"trace\": \"\"}}, \"*\")"
      ],
      "text/plain": [
       "<IPython.core.display.Javascript object>"
      ]
     },
     "metadata": {},
     "output_type": "display_data"
    },
    {
     "data": {
      "text/markdown": [
       "<span style=\"color:#33cc33\">Correct</span>"
      ],
      "text/plain": [
       "Correct"
      ]
     },
     "metadata": {},
     "output_type": "display_data"
    }
   ],
   "source": [
    "reviews_per_region = reviews.region_1.fillna(\"Unknown\").value_counts()\n",
    "\n",
    "# Check your answer\n",
    "q4.check()"
   ]
  },
  {
   "cell_type": "code",
   "execution_count": 9,
   "metadata": {
    "execution": {
     "iopub.execute_input": "2020-09-23T05:59:47.891022Z",
     "iopub.status.busy": "2020-09-23T05:59:47.890402Z",
     "iopub.status.idle": "2020-09-23T05:59:47.892273Z",
     "shell.execute_reply": "2020-09-23T05:59:47.892766Z"
    },
    "papermill": {
     "duration": 0.022404,
     "end_time": "2020-09-23T05:59:47.892894",
     "exception": false,
     "start_time": "2020-09-23T05:59:47.870490",
     "status": "completed"
    },
    "tags": []
   },
   "outputs": [],
   "source": [
    "#q4.hint()\n",
    "#q4.solution()"
   ]
  },
  {
   "cell_type": "markdown",
   "metadata": {
    "papermill": {
     "duration": 0.01613,
     "end_time": "2020-09-23T05:59:47.925392",
     "exception": false,
     "start_time": "2020-09-23T05:59:47.909262",
     "status": "completed"
    },
    "tags": []
   },
   "source": [
    "# Keep going\n",
    "\n",
    "Move on to **[renaming and combining](https://www.kaggle.com/residentmario/renaming-and-combining)**."
   ]
  },
  {
   "cell_type": "markdown",
   "metadata": {
    "papermill": {
     "duration": 0.016216,
     "end_time": "2020-09-23T05:59:47.957879",
     "exception": false,
     "start_time": "2020-09-23T05:59:47.941663",
     "status": "completed"
    },
    "tags": []
   },
   "source": [
    "---\n",
    "**[Pandas Home Page](https://www.kaggle.com/learn/pandas)**\n",
    "\n",
    "\n",
    "\n",
    "\n",
    "\n",
    "*Have questions or comments? Visit the [Learn Discussion forum](https://www.kaggle.com/learn-forum/161299) to chat with other Learners.*"
   ]
  }
 ],
 "metadata": {
  "kernelspec": {
   "display_name": "Python 3",
   "language": "python",
   "name": "python3"
  },
  "language_info": {
   "codemirror_mode": {
    "name": "ipython",
    "version": 3
   },
   "file_extension": ".py",
   "mimetype": "text/x-python",
   "name": "python",
   "nbconvert_exporter": "python",
   "pygments_lexer": "ipython3",
   "version": "3.7.6"
  },
  "papermill": {
   "duration": 7.448457,
   "end_time": "2020-09-23T05:59:48.081332",
   "environment_variables": {},
   "exception": null,
   "input_path": "__notebook__.ipynb",
   "output_path": "__notebook__.ipynb",
   "parameters": {},
   "start_time": "2020-09-23T05:59:40.632875",
   "version": "2.1.0"
  }
 },
 "nbformat": 4,
 "nbformat_minor": 4
}
